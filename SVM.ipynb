{
  "nbformat": 4,
  "nbformat_minor": 0,
  "metadata": {
    "colab": {
      "name": "SVM.ipynb",
      "provenance": []
    },
    "kernelspec": {
      "name": "python3",
      "display_name": "Python 3"
    },
    "language_info": {
      "name": "python"
    }
  },
  "cells": [
    {
      "cell_type": "code",
      "metadata": {
        "id": "Qyzcg1-gCWBK"
      },
      "source": [
        "import numpy as np\n",
        "import matplotlib.pyplot as plt\n",
        "from sklearn import svm, datasets\n",
        "\n",
        "from sklearn.metrics import classification_report, confusion_matrix, accuracy_score, plot_confusion_matrix\n",
        "from sklearn.datasets import make_classification, make_circles"
      ],
      "execution_count": null,
      "outputs": []
    },
    {
      "cell_type": "code",
      "metadata": {
        "id": "yA4nnxT6ClvO"
      },
      "source": [
        "def loadDataset():\n",
        "  dataset = datasets.load_iris()\n",
        "  features = dataset.data\n",
        "  labels = dataset.target\n",
        "  return dataset, features, labels"
      ],
      "execution_count": null,
      "outputs": []
    },
    {
      "cell_type": "code",
      "metadata": {
        "id": "zSSuYV2jCpbw"
      },
      "source": [
        "def prepareDataset(X, y, cls_remove=None):\n",
        "   cls = [0, 1, 2]\n",
        "   if cls_remove is not None:\n",
        "     features = []\n",
        "     labels = []\n",
        "     for index, (feat, label) in enumerate(zip(X, y)):\n",
        "       if y[index] != cls_remove:\n",
        "         features.append(feat)\n",
        "         labels.append(label)\n",
        "     cls.pop(cls_remove)\n",
        "   else:\n",
        "     features = X\n",
        "     labels = y\n",
        "   return np.array(features)[:, 2:4], np.array(labels), cls"
      ],
      "execution_count": null,
      "outputs": []
    },
    {
      "cell_type": "code",
      "metadata": {
        "id": "HDLT1EgrC2iF"
      },
      "source": [
        "def plotData(features, labels, cls, class_names):\n",
        "  colors = ['r', 'b', 'g']\n",
        "  markers = ['o', '*', '+']\n",
        "  for class_index in range(len(cls)):\n",
        "    plt.scatter(features[labels == cls[class_index],0], features[labels == cls[class_index],1], c=colors[class_index], marker=markers[class_index], label=class_names[cls[class_index]])\n",
        "  Title = \"Iris Dataset with {n} classes\".format(n=int(len(cls)))\n",
        "  plt.title(Title)\n",
        "  plt.xlabel('Petal Length (cm)')\n",
        "  plt.ylabel('Petal width (cm)')\n",
        "  plt.legend()"
      ],
      "execution_count": null,
      "outputs": []
    },
    {
      "cell_type": "code",
      "metadata": {
        "id": "OQxp3FTPC-2e"
      },
      "source": [
        "def plotRegions(model,X):\n",
        "  x_min, x_max = X[:, 0].min() - 1, X[:, 0].max() + 1\n",
        "  y_min, y_max = X[:, 1].min() - 1, X[:, 1].max() + 1\n",
        "  XX, YY = np.meshgrid(np.arange(x_min, x_max, 0.01), np.arange(y_min, y_max, 0.01))\n",
        "\n",
        "  z = model.predict(np.c_[XX.ravel(), YY.ravel()])\n",
        "  ZZ = z.reshape(XX.shape)\n",
        "  plt.contourf(XX, YY, ZZ, alpha=0.2)"
      ],
      "execution_count": null,
      "outputs": []
    },
    {
      "cell_type": "code",
      "metadata": {
        "id": "uk8XHpF_DB1x"
      },
      "source": [
        "def getAccuracy(model, x, y):\n",
        "  return model.score(x,y)*100\n",
        "\n",
        "def getClassNames(target_names):\n",
        "    cls_all = {}\n",
        "    for i, label in enumerate(target_names):\n",
        "        cls_all[i] = label\n",
        "    return cls_all"
      ],
      "execution_count": null,
      "outputs": []
    },
    {
      "cell_type": "code",
      "metadata": {
        "colab": {
          "base_uri": "https://localhost:8080/",
          "height": 969
        },
        "id": "-hx8gpqaDEr0",
        "outputId": "77f9673a-9363-4120-e71a-bcb7a61c1260"
      },
      "source": [
        "def main():\n",
        "    dataset, features, labels = loadDataset()\n",
        "    X, y, cls_new = prepareDataset(features, labels, cls_remove=None)\n",
        "    class_names = getClassNames(dataset.target_names)\n",
        "\n",
        "    print('Class names=', class_names)\n",
        "    print('Updated class index:', cls_new)\n",
        "    print(\"Number of samples:\", X.shape[0])\n",
        "    print(\"Number of features:\", X.shape[1])\n",
        "\n",
        "    model = svm.SVC(kernel='linear', decision_function_shape='ovo')\n",
        "    model.fit(X, y)\n",
        "    print('Accuracy of model: {:.2f}%'.format(getAccuracy(model, X, y)))\n",
        "\n",
        "    plotData(X, y, cls_new, class_names)\n",
        "    plotRegions(model, X)\n",
        "    plt.legend(loc=\"upper left\")\n",
        "    plt.show()\n",
        "\n",
        "    y_true, y_pred = y, model.predict(X)\n",
        "    print('\\nClassification Report:\\n')\n",
        "    print(classification_report(y_true, y_pred))\n",
        "\n",
        "    print('\\nConfusion Matrix:\\n')\n",
        "    print(confusion_matrix(y, y_pred))\n",
        "    plot_confusion_matrix(model, X, y)\n",
        "\n",
        "\n",
        "if __name__ == '__main__':\n",
        "    main()"
      ],
      "execution_count": null,
      "outputs": [
        {
          "output_type": "stream",
          "name": "stdout",
          "text": [
            "Class names= {0: 'setosa', 1: 'versicolor', 2: 'virginica'}\n",
            "Updated class index: [0, 1, 2]\n",
            "Number of samples: 150\n",
            "Number of features: 2\n",
            "Accuracy of model: 96.67%\n"
          ]
        },
        {
          "output_type": "display_data",
          "data": {
            "image/png": "[encoded data removed]",
            "text/plain": [
              "<Figure size 432x288 with 1 Axes>"
            ]
          },
          "metadata": {
            "needs_background": "light"
          }
        },
        {
          "output_type": "stream",
          "name": "stdout",
          "text": [
            "\n",
            "Classification Report:\n",
            "\n",
            "              precision    recall  f1-score   support\n",
            "\n",
            "           0       1.00      1.00      1.00        50\n",
            "           1       0.96      0.94      0.95        50\n",
            "           2       0.94      0.96      0.95        50\n",
            "\n",
            "    accuracy                           0.97       150\n",
            "   macro avg       0.97      0.97      0.97       150\n",
            "weighted avg       0.97      0.97      0.97       150\n",
            "\n",
            "\n",
            "Confusion Matrix:\n",
            "\n",
            "[[50  0  0]\n",
            " [ 0 47  3]\n",
            " [ 0  2 48]]\n"
          ]
        },
        {
          "output_type": "display_data",
          "data": {
            "image/png": "[encoded data removed]",
            "text/plain": [
              "<Figure size 432x288 with 2 Axes>"
            ]
          },
          "metadata": {
            "needs_background": "light"
          }
        }
      ]
    }
  ]
}